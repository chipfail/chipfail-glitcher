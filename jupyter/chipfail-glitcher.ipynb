{
 "cells": [
  {
   "cell_type": "markdown",
   "metadata": {
    "editable": true,
    "slideshow": {
     "slide_type": ""
    },
    "tags": []
   },
   "source": [
    "# Welcome to the chip.fail glitcher\n",
    "\n",
    "This Jupyter Notebook shows the configuration options and how to use the chip.fail glitcher.\n",
    "\n",
    "We start by configuring the path to the serial device of the FPGA. Note that the Cmod A7 shows up as two serial ports, you can figure out which one is the right one by trial and error."
   ]
  },
  {
   "cell_type": "code",
   "execution_count": null,
   "metadata": {},
   "outputs": [],
   "source": [
    "SERIAL_DEVICE = \"/dev/tty.usbserial-210328A9FDC51\""
   ]
  },
  {
   "cell_type": "markdown",
   "metadata": {},
   "source": [
    "Next we set up the different parameters for the glitch:\n",
    "\n",
    "#### POWER_CYCLE_BEFORE_GLITCH\n",
    "\n",
    "Whether the DUT should be power-cycled before the test. Some devices are very slow to start up (for example the ESP32), and as such it makes more sense to try to glitch and endless loop.\n",
    "\n",
    "#### POWER_CYCLE_PULSE\n",
    "\n",
    "The duration for which the power-cycle pulse should be send, in 100_000_000th of a second\n",
    "\n",
    "#### DELAY_FROM - DELAY_TO\n",
    "\n",
    "The delay range from the trigger to the glitch that should be tested, in 100_000_000th of a second\n",
    "\n",
    "#### PULSE_FROM - PULSE_TO\n",
    "\n",
    "The duration range for the glitch pulse, in 100_000_000th of a second."
   ]
  },
  {
   "cell_type": "code",
   "execution_count": null,
   "metadata": {},
   "outputs": [],
   "source": [
    "POWER_CYCLE_BEFORE_GLITCH = False\n",
    "POWER_CYCLE_PULSE = 3_000 \n",
    "DELAY_FROM = 100_000\n",
    "DELAY_TO = 150_000\n",
    "PULSE_FROM = 1\n",
    "PULSE_TO = 100"
   ]
  },
  {
   "cell_type": "markdown",
   "metadata": {},
   "source": [
    "Next, we import our basic requirements."
   ]
  },
  {
   "cell_type": "code",
   "execution_count": null,
   "metadata": {},
   "outputs": [],
   "source": [
    "import serial\n",
    "import struct\n",
    "from tqdm import tqdm_notebook\n",
    "from tqdm.notebook import trange\n",
    "import time"
   ]
  },
  {
   "cell_type": "markdown",
   "metadata": {},
   "source": [
    "In this part we define the commands that are implemented on the FPGA and open the serial device. We also establish some helper functions for interacting with the FPGA."
   ]
  },
  {
   "cell_type": "code",
   "execution_count": null,
   "metadata": {},
   "outputs": [],
   "source": [
    "device = serial.Serial(SERIAL_DEVICE, baudrate=115200)\n",
    "\n",
    "CMD_TOGGLE_LED = 65\n",
    "CMD_POWER_CYCLE = 66\n",
    "CMD_SET_GLITCH_PULSE = 67 # uint32\n",
    "CMD_SET_DELAY = 68 # uint32\n",
    "CMD_SET_POWER_PULSE = 69 # uint32\n",
    "CMD_GLITCH = 70\n",
    "CMD_READ_GPIO = 71\n",
    "CMD_ENABLE_GLITCH_POWER_CYCLE = 72 # bool/byte\n",
    "CMD_GET_STATE = 73 # Get state of device\n",
    "\n",
    "def cmd_toggle_led(device):\n",
    "    device.write(chr(CMD_TOGGLE_LED).encode(\"ASCII\"))\n",
    "\n",
    "def cmd(device, command):\n",
    "    device.write(chr(command).encode(\"ASCII\"))\n",
    "\n",
    "def cmd_uint32(device, command, u32):\n",
    "    device.write(chr(command).encode(\"ASCII\"))\n",
    "    data = struct.pack(\">L\", u32)\n",
    "    device.write(data)\n",
    "\n",
    "def cmd_uint8(device, command, u8):\n",
    "    device.write(chr(command).encode(\"ASCII\"))\n",
    "    data = struct.pack(\"B\", u8)\n",
    "    device.write(data)\n",
    "\n",
    "def cmd_read_uint8(device, command):\n",
    "    device.write(chr(command).encode(\"ASCII\"))\n",
    "    return device.read(1)[0]\n",
    "\n",
    "def parse_status(status):\n",
    "    power_pulse_status = (status >> 6) & 0b11\n",
    "    trigger_status = (status >> 4) & 0b11\n",
    "    delay_status = (status >> 2) & 0b11\n",
    "    glitch_pulse_status = status & 0b11\n",
    "    print(\"Power pulse   : \" + str(power_pulse_status))\n",
    "    print(\"Trigger status: \" + str(trigger_status))\n",
    "    print(\"Delay status  : \" + str(delay_status))\n",
    "    print(\"Glitch pulse  : \" + str(glitch_pulse_status))"
   ]
  },
  {
   "cell_type": "markdown",
   "metadata": {},
   "source": [
    "Lets see what the current state of the glitching logic is. This is useful to verify that the device is working and to ensure it does not need to be reset:"
   ]
  },
  {
   "cell_type": "code",
   "execution_count": null,
   "metadata": {
    "tags": []
   },
   "outputs": [],
   "source": [
    "status = cmd_read_uint8(device, CMD_GET_STATE)\n",
    "parse_status(status)"
   ]
  },
  {
   "cell_type": "markdown",
   "metadata": {},
   "source": [
    "Here is a simple demo setup of a glitch, with the power pulse, the delay, and the glitch pulse set to 1 second each. If this is run, LED1 should light up for a second, then a trigger (from low to high) is expected on pin 46, then a delay of 1 second is executed and then finally a 1 second glitch-pulse will be put out on port 48/LED2."
   ]
  },
  {
   "cell_type": "code",
   "execution_count": null,
   "metadata": {},
   "outputs": [],
   "source": [
    "cmd_uint32(device, CMD_SET_POWER_PULSE, 100_000_000)\n",
    "cmd_uint32(device, CMD_SET_DELAY, 100_000_000)\n",
    "cmd_uint32(device, CMD_SET_GLITCH_PULSE, 100_000_000)\n",
    "cmd_uint8(device, CMD_ENABLE_GLITCH_POWER_CYCLE, 1)\n",
    "\n",
    "cmd(device, CMD_GLITCH)\n",
    "print(\"Step one, power pulse:\")\n",
    "status = cmd_read_uint8(device, CMD_GET_STATE)\n",
    "parse_status(status)\n",
    "time.sleep(1.1)\n",
    "\n",
    "print(\"Step two, trigger\")\n",
    "status = cmd_read_uint8(device, CMD_GET_STATE)\n",
    "parse_status(status)\n",
    "print(\"\\tWaiting for pin to go low...\")\n",
    "while(status == 0b00010000):\n",
    "    status = cmd_read_uint8(device, CMD_GET_STATE)\n",
    "print(\"\\tWaiting for pin to go high...\")\n",
    "while(status == 0b00100000):\n",
    "    status = cmd_read_uint8(device, CMD_GET_STATE)\n",
    "\n",
    "print(\"Step three, delay:\")\n",
    "status = cmd_read_uint8(device, CMD_GET_STATE)\n",
    "parse_status(status)\n",
    "time.sleep(1.1)\n",
    "print(\"Step four, glitch pulse:\")\n",
    "status = cmd_read_uint8(device, CMD_GET_STATE)\n",
    "parse_status(status)\n",
    "while(status == 0b00000001):\n",
    "    status = cmd_read_uint8(device, CMD_GET_STATE)\n",
    "print(\"Done, if you get here it means everything is working!\")"
   ]
  },
  {
   "cell_type": "code",
   "execution_count": null,
   "metadata": {},
   "outputs": [],
   "source": [
    "success = False\n",
    "for delay in trange(DELAY_FROM, DELAY_TO):\n",
    "    cmd_uint32(device, CMD_SET_DELAY, delay)\n",
    "    if success:\n",
    "        break\n",
    "    for pulse in trange(PULSE_FROM, PULSE_TO, leave=False):\n",
    "        cmd_uint32(device, CMD_SET_GLITCH_PULSE, pulse)\n",
    "        cmd(device, CMD_GLITCH)\n",
    "        # Loop until the status is == 0, aka the glitch is done.\n",
    "        # This avoids having to manually time the glitch :)\n",
    "        while(cmd_read_uint8(device, CMD_GET_STATE)):\n",
    "            pass\n",
    "        # Check whether the glitch was successful!\n",
    "        gpios = cmd_read_uint8(device, CMD_READ_GPIO)\n",
    "        if(gpios):\n",
    "            print(\"*** SUCCESS ***\")\n",
    "            print(\"Delay: \" + str(delay))\n",
    "            print(\"Pulse: \" + str(pulse))\n",
    "            success = True\n",
    "            break\n",
    "            "
   ]
  },
  {
   "cell_type": "code",
   "execution_count": null,
   "metadata": {},
   "outputs": [],
   "source": [
    "# Show status of IOs\n",
    "print(format(cmd_read_uint8(device, CMD_READ_GPIO), '#010b'))"
   ]
  },
  {
   "cell_type": "code",
   "execution_count": null,
   "metadata": {},
   "outputs": [],
   "source": []
  }
 ],
 "metadata": {
  "kernelspec": {
   "display_name": "Python 3 (ipykernel)",
   "language": "python",
   "name": "python3"
  },
  "language_info": {
   "codemirror_mode": {
    "name": "ipython",
    "version": 3
   },
   "file_extension": ".py",
   "mimetype": "text/x-python",
   "name": "python",
   "nbconvert_exporter": "python",
   "pygments_lexer": "ipython3",
   "version": "3.11.2"
  }
 },
 "nbformat": 4,
 "nbformat_minor": 4
}
